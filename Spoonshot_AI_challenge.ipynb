{
  "nbformat": 4,
  "nbformat_minor": 0,
  "metadata": {
    "colab": {
      "name": "Spoonshot AI challenge.ipynb",
      "provenance": [],
      "collapsed_sections": [],
      "authorship_tag": "ABX9TyPlSV6dVUbEdamHNDiIg7xs",
      "include_colab_link": true
    },
    "kernelspec": {
      "name": "python3",
      "display_name": "Python 3"
    }
  },
  "cells": [
    {
      "cell_type": "markdown",
      "metadata": {
        "id": "view-in-github",
        "colab_type": "text"
      },
      "source": [
        "<a href=\"https://colab.research.google.com/github/ashika29/spoonshot-AI-hiring_challenge2020/blob/master/Spoonshot_AI_challenge.ipynb\" target=\"_parent\"><img src=\"https://colab.research.google.com/assets/colab-badge.svg\" alt=\"Open In Colab\"/></a>"
      ]
    },
    {
      "cell_type": "code",
      "metadata": {
        "id": "FUKjwpgHI76h",
        "outputId": "4efd7b1d-69ef-4975-deb0-165bfc9843de",
        "colab": {
          "base_uri": "https://localhost:8080/"
        }
      },
      "source": [
        "from google.colab import drive\n",
        "drive.mount('/content/drive')"
      ],
      "execution_count": 1,
      "outputs": [
        {
          "output_type": "stream",
          "text": [
            "Drive already mounted at /content/drive; to attempt to forcibly remount, call drive.mount(\"/content/drive\", force_remount=True).\n"
          ],
          "name": "stdout"
        }
      ]
    },
    {
      "cell_type": "markdown",
      "metadata": {
        "id": "v8UjJtUoFqLr"
      },
      "source": [
        "Downloading our dataset"
      ]
    },
    {
      "cell_type": "code",
      "metadata": {
        "id": "Umk9JGq3G74n",
        "outputId": "993a065a-a21a-4508-bac3-303b2d99b55a",
        "colab": {
          "base_uri": "https://localhost:8080/"
        }
      },
      "source": [
        "import os\n",
        "path = '/content/drive/My Drive/Colab Notebooks/Spoonshot_Dataset'\n",
        "print(os.path.join(path))"
      ],
      "execution_count": 2,
      "outputs": [
        {
          "output_type": "stream",
          "text": [
            "/content/drive/My Drive/Colab Notebooks/Spoonshot_Dataset\n"
          ],
          "name": "stdout"
        }
      ]
    },
    {
      "cell_type": "markdown",
      "metadata": {
        "id": "TQzTtTTPMb48"
      },
      "source": [
        "Import necessary libraries"
      ]
    },
    {
      "cell_type": "code",
      "metadata": {
        "id": "6pUKak9mLCX9",
        "outputId": "d9873c45-b674-4e4c-960c-fd7d3687f918",
        "colab": {
          "base_uri": "https://localhost:8080/"
        }
      },
      "source": [
        "import nltk\n",
        "nltk.download('stopwords')"
      ],
      "execution_count": 3,
      "outputs": [
        {
          "output_type": "stream",
          "text": [
            "[nltk_data] Downloading package stopwords to /root/nltk_data...\n",
            "[nltk_data]   Package stopwords is already up-to-date!\n"
          ],
          "name": "stdout"
        },
        {
          "output_type": "execute_result",
          "data": {
            "text/plain": [
              "True"
            ]
          },
          "metadata": {
            "tags": []
          },
          "execution_count": 3
        }
      ]
    },
    {
      "cell_type": "code",
      "metadata": {
        "id": "TwGLPTk1qT19"
      },
      "source": [
        "from numpy import array\n",
        "from keras.preprocessing.text import one_hot\n",
        "from keras.preprocessing.sequence import pad_sequences\n",
        "from keras.models import Sequential\n",
        "from keras.layers.core import Activation, Dropout, Dense\n",
        "from keras.layers import Flatten, LSTM\n",
        "from keras.layers import GlobalMaxPooling1D\n",
        "from keras.models import Model\n",
        "from keras.layers.embeddings import Embedding\n",
        "from sklearn.model_selection import train_test_split\n",
        "from keras.preprocessing.text import Tokenizer\n",
        "from keras.layers import Input\n",
        "from keras.layers.merge import Concatenate\n",
        "\n",
        "import pandas as pd\n",
        "import numpy as np\n",
        "import re\n",
        "\n",
        "import matplotlib.pyplot as plt"
      ],
      "execution_count": 4,
      "outputs": []
    },
    {
      "cell_type": "code",
      "metadata": {
        "id": "ugucnrVlqf-d",
        "outputId": "e231a397-3bdc-44c8-a53a-161dbb4f4cf5",
        "colab": {
          "base_uri": "https://localhost:8080/"
        }
      },
      "source": [
        "df = pd.read_csv(path+os.path.join(\"/TRAIN.csv\"))\n",
        "print(df.shape)\n",
        "print(df.head())\n",
        "filter = df[\"ABSTRACT\"] != \"\"\n",
        "df = df[filter]\n",
        "df = df.dropna()"
      ],
      "execution_count": 5,
      "outputs": [
        {
          "output_type": "stream",
          "text": [
            "(17000, 9)\n",
            "                                               TITLE  ...                        labels\n",
            "0  ChemGAN challenge for drug discovery: can AI r...  ...   Computer Science,Statistics\n",
            "1  Hybrid graphene tunneling photoconductor with ...  ...                       Physics\n",
            "2  Temperature Dependence of Magnetic Excitations...  ...                       Physics\n",
            "3  A Las Vegas algorithm to solve the elliptic cu...  ...  Computer Science,Mathematics\n",
            "4  Comparing simulations and test data of a radia...  ...                       Physics\n",
            "\n",
            "[5 rows x 9 columns]\n"
          ],
          "name": "stdout"
        }
      ]
    },
    {
      "cell_type": "code",
      "metadata": {
        "id": "-ZX7xLIFrytf",
        "outputId": "82609ac8-b299-4dee-f4ac-84c1d70120cf",
        "colab": {
          "base_uri": "https://localhost:8080/"
        }
      },
      "source": [
        "df.columns"
      ],
      "execution_count": 6,
      "outputs": [
        {
          "output_type": "execute_result",
          "data": {
            "text/plain": [
              "Index(['TITLE', 'ABSTRACT', 'Computer Science', 'Physics', 'Mathematics',\n",
              "       'Statistics', 'Quantitative Biology', 'Quantitative Finance', 'labels'],\n",
              "      dtype='object')"
            ]
          },
          "metadata": {
            "tags": []
          },
          "execution_count": 6
        }
      ]
    },
    {
      "cell_type": "code",
      "metadata": {
        "id": "2puqgzq2EPV7"
      },
      "source": [
        "import re\n",
        "def preprocess_text(sentence):\n",
        "  new_sentence = re.sub('[^a-zA-Z]', ' ', sentence)\n",
        "  new_sentence = re.sub(r\"\\s+[a-zA-Z]\\s+\", ' ', new_sentence)\n",
        "  # Removing multiple spaces\n",
        "  new_sentence = re.sub(r'\\s+', ' ', new_sentence)\n",
        "  return new_sentence"
      ],
      "execution_count": 7,
      "outputs": []
    },
    {
      "cell_type": "code",
      "metadata": {
        "id": "UImnnC08sNdL",
        "outputId": "d76cd978-cf44-4648-c115-7dcd1142a259",
        "colab": {
          "base_uri": "https://localhost:8080/"
        }
      },
      "source": [
        "print(f\"{df['ABSTRACT'][1]}\")\n",
        "print(f\"Computer Science: {df['Computer Science'][1]}\")\n",
        "print(f\"Statistics: {df['Statistics'][1]}\")\n",
        "print(f\"Physics: {df['Physics'][1]}\")\n",
        "print(f\"Mathematics: {df['Mathematics'][1]}\")\n",
        "print(f\"Quantitative Biology: {df['Quantitative Biology'][1]}\")\n",
        "print(f\"Quantitative Finance: {df['Quantitative Finance'][1]}\")"
      ],
      "execution_count": 17,
      "outputs": [
        {
          "output_type": "stream",
          "text": [
            "  Hybrid graphene photoconductor/phototransistor has achieved giant\n",
            "photoresponsivity, but its response speed dramatically degrades as the expense\n",
            "due to the long lifetime of trapped interfacial carriers. In this work, by\n",
            "intercalating a large-area atomically thin MoS2 film into a hybrid graphene\n",
            "photoconductor, we have developed a prototype tunneling photoconductor, which\n",
            "exhibits a record-fast response (rising time ~17 ns) and a high responsivity\n",
            "(~$3\\times10^4$ A/W at 635 nm and 16.8 nW illumination) across the broad\n",
            "spectral range. We demonstrate that the photo-excited carriers generated in\n",
            "silicon are transferred into graphene through a tunneling process rather than\n",
            "carrier drift. The atomically thin MoS2 film not only serves as tunneling layer\n",
            "but also passivates surface states, which in combination delivers a superior\n",
            "response speed (~3 order of magnitude improved than a device without MoS2\n",
            "layer), while the responsivity remains high. This intriguing tunneling\n",
            "photoconductor integrates both fast response and high responsivity and thus has\n",
            "significant potential in practical applications of optoelectronic devices.\n",
            "\n",
            "Computer Science: 0\n",
            "Statistics: 0\n",
            "Physics: 1\n",
            "Mathematics: 0\n",
            "Quantitative Biology: 0\n",
            "Quantitative Finance: 0\n"
          ],
          "name": "stdout"
        }
      ]
    },
    {
      "cell_type": "code",
      "metadata": {
        "id": "Q2amqBAssXJ-",
        "outputId": "f838f176-4a08-417d-c5ba-c1732658358f",
        "colab": {
          "base_uri": "https://localhost:8080/",
          "height": 204
        }
      },
      "source": [
        "df_labels = df[['Computer Science','Physics','Mathematics','Statistics','Quantitative Biology','Quantitative Finance']]\n",
        "df_labels.head()"
      ],
      "execution_count": 18,
      "outputs": [
        {
          "output_type": "execute_result",
          "data": {
            "text/html": [
              "<div>\n",
              "<style scoped>\n",
              "    .dataframe tbody tr th:only-of-type {\n",
              "        vertical-align: middle;\n",
              "    }\n",
              "\n",
              "    .dataframe tbody tr th {\n",
              "        vertical-align: top;\n",
              "    }\n",
              "\n",
              "    .dataframe thead th {\n",
              "        text-align: right;\n",
              "    }\n",
              "</style>\n",
              "<table border=\"1\" class=\"dataframe\">\n",
              "  <thead>\n",
              "    <tr style=\"text-align: right;\">\n",
              "      <th></th>\n",
              "      <th>Computer Science</th>\n",
              "      <th>Physics</th>\n",
              "      <th>Mathematics</th>\n",
              "      <th>Statistics</th>\n",
              "      <th>Quantitative Biology</th>\n",
              "      <th>Quantitative Finance</th>\n",
              "    </tr>\n",
              "  </thead>\n",
              "  <tbody>\n",
              "    <tr>\n",
              "      <th>0</th>\n",
              "      <td>1</td>\n",
              "      <td>0</td>\n",
              "      <td>0</td>\n",
              "      <td>1</td>\n",
              "      <td>0</td>\n",
              "      <td>0</td>\n",
              "    </tr>\n",
              "    <tr>\n",
              "      <th>1</th>\n",
              "      <td>0</td>\n",
              "      <td>1</td>\n",
              "      <td>0</td>\n",
              "      <td>0</td>\n",
              "      <td>0</td>\n",
              "      <td>0</td>\n",
              "    </tr>\n",
              "    <tr>\n",
              "      <th>2</th>\n",
              "      <td>0</td>\n",
              "      <td>1</td>\n",
              "      <td>0</td>\n",
              "      <td>0</td>\n",
              "      <td>0</td>\n",
              "      <td>0</td>\n",
              "    </tr>\n",
              "    <tr>\n",
              "      <th>3</th>\n",
              "      <td>1</td>\n",
              "      <td>0</td>\n",
              "      <td>1</td>\n",
              "      <td>0</td>\n",
              "      <td>0</td>\n",
              "      <td>0</td>\n",
              "    </tr>\n",
              "    <tr>\n",
              "      <th>4</th>\n",
              "      <td>0</td>\n",
              "      <td>1</td>\n",
              "      <td>0</td>\n",
              "      <td>0</td>\n",
              "      <td>0</td>\n",
              "      <td>0</td>\n",
              "    </tr>\n",
              "  </tbody>\n",
              "</table>\n",
              "</div>"
            ],
            "text/plain": [
              "   Computer Science  Physics  ...  Quantitative Biology  Quantitative Finance\n",
              "0                 1        0  ...                     0                     0\n",
              "1                 0        1  ...                     0                     0\n",
              "2                 0        1  ...                     0                     0\n",
              "3                 1        0  ...                     0                     0\n",
              "4                 0        1  ...                     0                     0\n",
              "\n",
              "[5 rows x 6 columns]"
            ]
          },
          "metadata": {
            "tags": []
          },
          "execution_count": 18
        }
      ]
    },
    {
      "cell_type": "code",
      "metadata": {
        "id": "cg5GDNt5sjMi",
        "outputId": "c9b67fa4-740f-4bed-bf7b-b318a1fd6d65",
        "colab": {
          "base_uri": "https://localhost:8080/",
          "height": 593
        }
      },
      "source": [
        "fig_size = plt.rcParams[\"figure.figsize\"]\n",
        "fig_size[0] = 10\n",
        "fig_size[1] = 8\n",
        "plt.rcParams[\"figure.figsize\"] = fig_size\n",
        "df_labels.sum(axis=0).plot.bar()"
      ],
      "execution_count": 19,
      "outputs": [
        {
          "output_type": "execute_result",
          "data": {
            "text/plain": [
              "<matplotlib.axes._subplots.AxesSubplot at 0x7fb4ef1478d0>"
            ]
          },
          "metadata": {
            "tags": []
          },
          "execution_count": 19
        },
        {
          "output_type": "display_data",
          "data": {
            "image/png": "[encoded data removed]",
            "text/plain": [
              "<Figure size 720x576 with 1 Axes>"
            ]
          },
          "metadata": {
            "tags": [],
            "needs_background": "light"
          }
        }
      ]
    },
    {
      "cell_type": "code",
      "metadata": {
        "id": "eVUD7gLqx2qa",
        "outputId": "97a2b805-300a-43ee-db16-ddd6e12b2b2c",
        "colab": {
          "base_uri": "https://localhost:8080/",
          "height": 419
        }
      },
      "source": [
        "X = []\n",
        "sentences = list(df[\"ABSTRACT\"])\n",
        "for sen in sentences:\n",
        "    X.append(preprocess_text(sen))\n",
        "y = df_labels.values\n",
        "df_labels"
      ],
      "execution_count": 20,
      "outputs": [
        {
          "output_type": "execute_result",
          "data": {
            "text/html": [
              "<div>\n",
              "<style scoped>\n",
              "    .dataframe tbody tr th:only-of-type {\n",
              "        vertical-align: middle;\n",
              "    }\n",
              "\n",
              "    .dataframe tbody tr th {\n",
              "        vertical-align: top;\n",
              "    }\n",
              "\n",
              "    .dataframe thead th {\n",
              "        text-align: right;\n",
              "    }\n",
              "</style>\n",
              "<table border=\"1\" class=\"dataframe\">\n",
              "  <thead>\n",
              "    <tr style=\"text-align: right;\">\n",
              "      <th></th>\n",
              "      <th>Computer Science</th>\n",
              "      <th>Physics</th>\n",
              "      <th>Mathematics</th>\n",
              "      <th>Statistics</th>\n",
              "      <th>Quantitative Biology</th>\n",
              "      <th>Quantitative Finance</th>\n",
              "    </tr>\n",
              "  </thead>\n",
              "  <tbody>\n",
              "    <tr>\n",
              "      <th>0</th>\n",
              "      <td>1</td>\n",
              "      <td>0</td>\n",
              "      <td>0</td>\n",
              "      <td>1</td>\n",
              "      <td>0</td>\n",
              "      <td>0</td>\n",
              "    </tr>\n",
              "    <tr>\n",
              "      <th>1</th>\n",
              "      <td>0</td>\n",
              "      <td>1</td>\n",
              "      <td>0</td>\n",
              "      <td>0</td>\n",
              "      <td>0</td>\n",
              "      <td>0</td>\n",
              "    </tr>\n",
              "    <tr>\n",
              "      <th>2</th>\n",
              "      <td>0</td>\n",
              "      <td>1</td>\n",
              "      <td>0</td>\n",
              "      <td>0</td>\n",
              "      <td>0</td>\n",
              "      <td>0</td>\n",
              "    </tr>\n",
              "    <tr>\n",
              "      <th>3</th>\n",
              "      <td>1</td>\n",
              "      <td>0</td>\n",
              "      <td>1</td>\n",
              "      <td>0</td>\n",
              "      <td>0</td>\n",
              "      <td>0</td>\n",
              "    </tr>\n",
              "    <tr>\n",
              "      <th>4</th>\n",
              "      <td>0</td>\n",
              "      <td>1</td>\n",
              "      <td>0</td>\n",
              "      <td>0</td>\n",
              "      <td>0</td>\n",
              "      <td>0</td>\n",
              "    </tr>\n",
              "    <tr>\n",
              "      <th>...</th>\n",
              "      <td>...</td>\n",
              "      <td>...</td>\n",
              "      <td>...</td>\n",
              "      <td>...</td>\n",
              "      <td>...</td>\n",
              "      <td>...</td>\n",
              "    </tr>\n",
              "    <tr>\n",
              "      <th>16995</th>\n",
              "      <td>0</td>\n",
              "      <td>1</td>\n",
              "      <td>0</td>\n",
              "      <td>0</td>\n",
              "      <td>0</td>\n",
              "      <td>0</td>\n",
              "    </tr>\n",
              "    <tr>\n",
              "      <th>16996</th>\n",
              "      <td>0</td>\n",
              "      <td>1</td>\n",
              "      <td>0</td>\n",
              "      <td>0</td>\n",
              "      <td>0</td>\n",
              "      <td>0</td>\n",
              "    </tr>\n",
              "    <tr>\n",
              "      <th>16997</th>\n",
              "      <td>1</td>\n",
              "      <td>0</td>\n",
              "      <td>0</td>\n",
              "      <td>1</td>\n",
              "      <td>0</td>\n",
              "      <td>0</td>\n",
              "    </tr>\n",
              "    <tr>\n",
              "      <th>16998</th>\n",
              "      <td>0</td>\n",
              "      <td>0</td>\n",
              "      <td>1</td>\n",
              "      <td>0</td>\n",
              "      <td>0</td>\n",
              "      <td>0</td>\n",
              "    </tr>\n",
              "    <tr>\n",
              "      <th>16999</th>\n",
              "      <td>1</td>\n",
              "      <td>0</td>\n",
              "      <td>0</td>\n",
              "      <td>0</td>\n",
              "      <td>0</td>\n",
              "      <td>0</td>\n",
              "    </tr>\n",
              "  </tbody>\n",
              "</table>\n",
              "<p>17000 rows × 6 columns</p>\n",
              "</div>"
            ],
            "text/plain": [
              "       Computer Science  Physics  ...  Quantitative Biology  Quantitative Finance\n",
              "0                     1        0  ...                     0                     0\n",
              "1                     0        1  ...                     0                     0\n",
              "2                     0        1  ...                     0                     0\n",
              "3                     1        0  ...                     0                     0\n",
              "4                     0        1  ...                     0                     0\n",
              "...                 ...      ...  ...                   ...                   ...\n",
              "16995                 0        1  ...                     0                     0\n",
              "16996                 0        1  ...                     0                     0\n",
              "16997                 1        0  ...                     0                     0\n",
              "16998                 0        0  ...                     0                     0\n",
              "16999                 1        0  ...                     0                     0\n",
              "\n",
              "[17000 rows x 6 columns]"
            ]
          },
          "metadata": {
            "tags": []
          },
          "execution_count": 20
        }
      ]
    },
    {
      "cell_type": "code",
      "metadata": {
        "id": "vLW4P2P3xin3"
      },
      "source": [
        "X_train, X_test, y_train, y_test = train_test_split(X, df_labels, test_size=0.20, random_state=42)\n",
        "#y_train['Computer Science']"
      ],
      "execution_count": 21,
      "outputs": []
    },
    {
      "cell_type": "code",
      "metadata": {
        "id": "I0i8-53eyUeS",
        "outputId": "4aadeb62-5625-4678-a925-8e625bef71fc",
        "colab": {
          "base_uri": "https://localhost:8080/",
          "height": 419
        }
      },
      "source": [
        "y_train"
      ],
      "execution_count": 22,
      "outputs": [
        {
          "output_type": "execute_result",
          "data": {
            "text/html": [
              "<div>\n",
              "<style scoped>\n",
              "    .dataframe tbody tr th:only-of-type {\n",
              "        vertical-align: middle;\n",
              "    }\n",
              "\n",
              "    .dataframe tbody tr th {\n",
              "        vertical-align: top;\n",
              "    }\n",
              "\n",
              "    .dataframe thead th {\n",
              "        text-align: right;\n",
              "    }\n",
              "</style>\n",
              "<table border=\"1\" class=\"dataframe\">\n",
              "  <thead>\n",
              "    <tr style=\"text-align: right;\">\n",
              "      <th></th>\n",
              "      <th>Computer Science</th>\n",
              "      <th>Physics</th>\n",
              "      <th>Mathematics</th>\n",
              "      <th>Statistics</th>\n",
              "      <th>Quantitative Biology</th>\n",
              "      <th>Quantitative Finance</th>\n",
              "    </tr>\n",
              "  </thead>\n",
              "  <tbody>\n",
              "    <tr>\n",
              "      <th>4679</th>\n",
              "      <td>1</td>\n",
              "      <td>0</td>\n",
              "      <td>0</td>\n",
              "      <td>0</td>\n",
              "      <td>0</td>\n",
              "      <td>0</td>\n",
              "    </tr>\n",
              "    <tr>\n",
              "      <th>2512</th>\n",
              "      <td>0</td>\n",
              "      <td>0</td>\n",
              "      <td>1</td>\n",
              "      <td>1</td>\n",
              "      <td>0</td>\n",
              "      <td>0</td>\n",
              "    </tr>\n",
              "    <tr>\n",
              "      <th>993</th>\n",
              "      <td>1</td>\n",
              "      <td>0</td>\n",
              "      <td>0</td>\n",
              "      <td>1</td>\n",
              "      <td>0</td>\n",
              "      <td>0</td>\n",
              "    </tr>\n",
              "    <tr>\n",
              "      <th>1327</th>\n",
              "      <td>1</td>\n",
              "      <td>0</td>\n",
              "      <td>0</td>\n",
              "      <td>1</td>\n",
              "      <td>0</td>\n",
              "      <td>0</td>\n",
              "    </tr>\n",
              "    <tr>\n",
              "      <th>4630</th>\n",
              "      <td>0</td>\n",
              "      <td>1</td>\n",
              "      <td>0</td>\n",
              "      <td>0</td>\n",
              "      <td>0</td>\n",
              "      <td>0</td>\n",
              "    </tr>\n",
              "    <tr>\n",
              "      <th>...</th>\n",
              "      <td>...</td>\n",
              "      <td>...</td>\n",
              "      <td>...</td>\n",
              "      <td>...</td>\n",
              "      <td>...</td>\n",
              "      <td>...</td>\n",
              "    </tr>\n",
              "    <tr>\n",
              "      <th>11284</th>\n",
              "      <td>0</td>\n",
              "      <td>1</td>\n",
              "      <td>0</td>\n",
              "      <td>0</td>\n",
              "      <td>0</td>\n",
              "      <td>0</td>\n",
              "    </tr>\n",
              "    <tr>\n",
              "      <th>11964</th>\n",
              "      <td>1</td>\n",
              "      <td>0</td>\n",
              "      <td>0</td>\n",
              "      <td>0</td>\n",
              "      <td>0</td>\n",
              "      <td>0</td>\n",
              "    </tr>\n",
              "    <tr>\n",
              "      <th>5390</th>\n",
              "      <td>0</td>\n",
              "      <td>0</td>\n",
              "      <td>1</td>\n",
              "      <td>0</td>\n",
              "      <td>0</td>\n",
              "      <td>0</td>\n",
              "    </tr>\n",
              "    <tr>\n",
              "      <th>860</th>\n",
              "      <td>1</td>\n",
              "      <td>0</td>\n",
              "      <td>0</td>\n",
              "      <td>0</td>\n",
              "      <td>0</td>\n",
              "      <td>0</td>\n",
              "    </tr>\n",
              "    <tr>\n",
              "      <th>15795</th>\n",
              "      <td>0</td>\n",
              "      <td>1</td>\n",
              "      <td>0</td>\n",
              "      <td>0</td>\n",
              "      <td>0</td>\n",
              "      <td>0</td>\n",
              "    </tr>\n",
              "  </tbody>\n",
              "</table>\n",
              "<p>13600 rows × 6 columns</p>\n",
              "</div>"
            ],
            "text/plain": [
              "       Computer Science  Physics  ...  Quantitative Biology  Quantitative Finance\n",
              "4679                  1        0  ...                     0                     0\n",
              "2512                  0        0  ...                     0                     0\n",
              "993                   1        0  ...                     0                     0\n",
              "1327                  1        0  ...                     0                     0\n",
              "4630                  0        1  ...                     0                     0\n",
              "...                 ...      ...  ...                   ...                   ...\n",
              "11284                 0        1  ...                     0                     0\n",
              "11964                 1        0  ...                     0                     0\n",
              "5390                  0        0  ...                     0                     0\n",
              "860                   1        0  ...                     0                     0\n",
              "15795                 0        1  ...                     0                     0\n",
              "\n",
              "[13600 rows x 6 columns]"
            ]
          },
          "metadata": {
            "tags": []
          },
          "execution_count": 22
        }
      ]
    },
    {
      "cell_type": "code",
      "metadata": {
        "id": "LISBwpafNC_2",
        "outputId": "24ce04c4-8456-4355-b6ff-e6e708a4b75d",
        "colab": {
          "base_uri": "https://localhost:8080/",
          "height": 419
        }
      },
      "source": [
        "y_test"
      ],
      "execution_count": 24,
      "outputs": [
        {
          "output_type": "execute_result",
          "data": {
            "text/html": [
              "<div>\n",
              "<style scoped>\n",
              "    .dataframe tbody tr th:only-of-type {\n",
              "        vertical-align: middle;\n",
              "    }\n",
              "\n",
              "    .dataframe tbody tr th {\n",
              "        vertical-align: top;\n",
              "    }\n",
              "\n",
              "    .dataframe thead th {\n",
              "        text-align: right;\n",
              "    }\n",
              "</style>\n",
              "<table border=\"1\" class=\"dataframe\">\n",
              "  <thead>\n",
              "    <tr style=\"text-align: right;\">\n",
              "      <th></th>\n",
              "      <th>Computer Science</th>\n",
              "      <th>Physics</th>\n",
              "      <th>Mathematics</th>\n",
              "      <th>Statistics</th>\n",
              "      <th>Quantitative Biology</th>\n",
              "      <th>Quantitative Finance</th>\n",
              "    </tr>\n",
              "  </thead>\n",
              "  <tbody>\n",
              "    <tr>\n",
              "      <th>10941</th>\n",
              "      <td>1</td>\n",
              "      <td>0</td>\n",
              "      <td>0</td>\n",
              "      <td>0</td>\n",
              "      <td>0</td>\n",
              "      <td>0</td>\n",
              "    </tr>\n",
              "    <tr>\n",
              "      <th>5250</th>\n",
              "      <td>1</td>\n",
              "      <td>0</td>\n",
              "      <td>0</td>\n",
              "      <td>0</td>\n",
              "      <td>0</td>\n",
              "      <td>0</td>\n",
              "    </tr>\n",
              "    <tr>\n",
              "      <th>10292</th>\n",
              "      <td>0</td>\n",
              "      <td>1</td>\n",
              "      <td>1</td>\n",
              "      <td>0</td>\n",
              "      <td>0</td>\n",
              "      <td>0</td>\n",
              "    </tr>\n",
              "    <tr>\n",
              "      <th>2266</th>\n",
              "      <td>1</td>\n",
              "      <td>0</td>\n",
              "      <td>1</td>\n",
              "      <td>0</td>\n",
              "      <td>0</td>\n",
              "      <td>0</td>\n",
              "    </tr>\n",
              "    <tr>\n",
              "      <th>6398</th>\n",
              "      <td>0</td>\n",
              "      <td>1</td>\n",
              "      <td>0</td>\n",
              "      <td>0</td>\n",
              "      <td>0</td>\n",
              "      <td>0</td>\n",
              "    </tr>\n",
              "    <tr>\n",
              "      <th>...</th>\n",
              "      <td>...</td>\n",
              "      <td>...</td>\n",
              "      <td>...</td>\n",
              "      <td>...</td>\n",
              "      <td>...</td>\n",
              "      <td>...</td>\n",
              "    </tr>\n",
              "    <tr>\n",
              "      <th>4706</th>\n",
              "      <td>0</td>\n",
              "      <td>1</td>\n",
              "      <td>0</td>\n",
              "      <td>0</td>\n",
              "      <td>0</td>\n",
              "      <td>0</td>\n",
              "    </tr>\n",
              "    <tr>\n",
              "      <th>8404</th>\n",
              "      <td>0</td>\n",
              "      <td>0</td>\n",
              "      <td>1</td>\n",
              "      <td>0</td>\n",
              "      <td>0</td>\n",
              "      <td>0</td>\n",
              "    </tr>\n",
              "    <tr>\n",
              "      <th>11114</th>\n",
              "      <td>0</td>\n",
              "      <td>1</td>\n",
              "      <td>0</td>\n",
              "      <td>0</td>\n",
              "      <td>0</td>\n",
              "      <td>0</td>\n",
              "    </tr>\n",
              "    <tr>\n",
              "      <th>7877</th>\n",
              "      <td>0</td>\n",
              "      <td>1</td>\n",
              "      <td>0</td>\n",
              "      <td>0</td>\n",
              "      <td>0</td>\n",
              "      <td>0</td>\n",
              "    </tr>\n",
              "    <tr>\n",
              "      <th>6188</th>\n",
              "      <td>0</td>\n",
              "      <td>0</td>\n",
              "      <td>0</td>\n",
              "      <td>0</td>\n",
              "      <td>1</td>\n",
              "      <td>0</td>\n",
              "    </tr>\n",
              "  </tbody>\n",
              "</table>\n",
              "<p>3400 rows × 6 columns</p>\n",
              "</div>"
            ],
            "text/plain": [
              "       Computer Science  Physics  ...  Quantitative Biology  Quantitative Finance\n",
              "10941                 1        0  ...                     0                     0\n",
              "5250                  1        0  ...                     0                     0\n",
              "10292                 0        1  ...                     0                     0\n",
              "2266                  1        0  ...                     0                     0\n",
              "6398                  0        1  ...                     0                     0\n",
              "...                 ...      ...  ...                   ...                   ...\n",
              "4706                  0        1  ...                     0                     0\n",
              "8404                  0        0  ...                     0                     0\n",
              "11114                 0        1  ...                     0                     0\n",
              "7877                  0        1  ...                     0                     0\n",
              "6188                  0        0  ...                     1                     0\n",
              "\n",
              "[3400 rows x 6 columns]"
            ]
          },
          "metadata": {
            "tags": []
          },
          "execution_count": 24
        }
      ]
    },
    {
      "cell_type": "code",
      "metadata": {
        "id": "kh8vfVxMwvPF"
      },
      "source": [
        "# First output\n",
        "y1_train = y_train[['Computer Science']].values\n",
        "y1_test =  y_test[['Computer Science']].values\n",
        "\n",
        "# Second output\n",
        "y2_train = y_train[['Physics']].values\n",
        "y2_test =  y_test[['Physics']].values\n",
        "\n",
        "# Third output\n",
        "y3_train = y_train[['Mathematics']].values\n",
        "y3_test =  y_test[['Mathematics']].values\n",
        "\n",
        "# Fourth output\n",
        "y4_train = y_train[['Statistics']].values\n",
        "y4_test =  y_test[['Statistics']].values\n",
        "\n",
        "# Fifth output\n",
        "y5_train = y_train[['Quantitative Biology']].values\n",
        "y5_test =  y_test[['Quantitative Biology']].values\n",
        "\n",
        "# Sixth output\n",
        "y6_train = y_train[['Quantitative Finance']].values\n",
        "y6_test =  y_test[['Quantitative Finance']].values"
      ],
      "execution_count": 25,
      "outputs": []
    },
    {
      "cell_type": "code",
      "metadata": {
        "id": "OGQCwtoUw3s8"
      },
      "source": [
        "tokenizer = Tokenizer(num_words=5000)\n",
        "tokenizer.fit_on_texts(X_train)\n",
        "X_train = tokenizer.texts_to_sequences(X_train)\n",
        "X_test = tokenizer.texts_to_sequences(X_test)\n",
        "vocab_size = len(tokenizer.word_index) + 1\n",
        "maxlen = 200\n",
        "X_train = pad_sequences(X_train, padding='post', maxlen=maxlen)\n",
        "X_test = pad_sequences(X_test, padding='post', maxlen=maxlen)"
      ],
      "execution_count": 26,
      "outputs": []
    },
    {
      "cell_type": "code",
      "metadata": {
        "id": "5x9aHfSGy_dp"
      },
      "source": [
        "from numpy import array\n",
        "from numpy import asarray\n",
        "from numpy import zeros\n",
        "glove_file = open(path+os.path.join('/glove.6B.100d.txt'), encoding=\"utf8\")\n",
        "embeddings_dictionary = dict()\n",
        "for line in glove_file:\n",
        "    records = line.split()\n",
        "    word = records[0]\n",
        "    vector_dimensions = asarray(records[1:], dtype='float32')\n",
        "    embeddings_dictionary[word] = vector_dimensions\n",
        "glove_file.close()\n",
        "\n",
        "embedding_matrix = zeros((vocab_size, 100))\n",
        "for word, index in tokenizer.word_index.items():\n",
        "    embedding_vector = embeddings_dictionary.get(word)\n",
        "    if embedding_vector is not None:\n",
        "        embedding_matrix[index] = embedding_vector"
      ],
      "execution_count": 27,
      "outputs": []
    },
    {
      "cell_type": "code",
      "metadata": {
        "id": "1d4j7ZifzIqr",
        "outputId": "66c2d3e3-8150-4277-cf61-f3f215d12b7e",
        "colab": {
          "base_uri": "https://localhost:8080/"
        }
      },
      "source": [
        "input_1 = Input(shape=(maxlen,))\n",
        "embedding_layer = Embedding(vocab_size, 100, weights=[embedding_matrix], trainable=False)(input_1)\n",
        "LSTM_Layer1 = LSTM(128)(embedding_layer)\n",
        "\n",
        "output1 = Dense(1, activation='sigmoid')(LSTM_Layer1)\n",
        "output2 = Dense(1, activation='sigmoid')(LSTM_Layer1)\n",
        "output3 = Dense(1, activation='sigmoid')(LSTM_Layer1)\n",
        "output4 = Dense(1, activation='sigmoid')(LSTM_Layer1)\n",
        "output5 = Dense(1, activation='sigmoid')(LSTM_Layer1)\n",
        "output6 = Dense(1, activation='sigmoid')(LSTM_Layer1)\n",
        "\n",
        "model = Model(inputs=input_1, outputs=[output1, output2, output3, output4, output5, output6])\n",
        "model.compile(loss='binary_crossentropy', optimizer='adam', metrics=['acc'])\n",
        "print(model.summary())"
      ],
      "execution_count": 28,
      "outputs": [
        {
          "output_type": "stream",
          "text": [
            "Model: \"functional_1\"\n",
            "__________________________________________________________________________________________________\n",
            "Layer (type)                    Output Shape         Param #     Connected to                     \n",
            "==================================================================================================\n",
            "input_1 (InputLayer)            [(None, 200)]        0                                            \n",
            "__________________________________________________________________________________________________\n",
            "embedding (Embedding)           (None, 200, 100)     4047600     input_1[0][0]                    \n",
            "__________________________________________________________________________________________________\n",
            "lstm (LSTM)                     (None, 128)          117248      embedding[0][0]                  \n",
            "__________________________________________________________________________________________________\n",
            "dense (Dense)                   (None, 1)            129         lstm[0][0]                       \n",
            "__________________________________________________________________________________________________\n",
            "dense_1 (Dense)                 (None, 1)            129         lstm[0][0]                       \n",
            "__________________________________________________________________________________________________\n",
            "dense_2 (Dense)                 (None, 1)            129         lstm[0][0]                       \n",
            "__________________________________________________________________________________________________\n",
            "dense_3 (Dense)                 (None, 1)            129         lstm[0][0]                       \n",
            "__________________________________________________________________________________________________\n",
            "dense_4 (Dense)                 (None, 1)            129         lstm[0][0]                       \n",
            "__________________________________________________________________________________________________\n",
            "dense_5 (Dense)                 (None, 1)            129         lstm[0][0]                       \n",
            "==================================================================================================\n",
            "Total params: 4,165,622\n",
            "Trainable params: 118,022\n",
            "Non-trainable params: 4,047,600\n",
            "__________________________________________________________________________________________________\n",
            "None\n"
          ],
          "name": "stdout"
        }
      ]
    },
    {
      "cell_type": "code",
      "metadata": {
        "id": "SGtKK3hTzNpP",
        "outputId": "71c6ed9d-9ce0-473c-abb5-856349a4334d",
        "colab": {
          "base_uri": "https://localhost:8080/"
        }
      },
      "source": [
        "history = model.fit(x=X_train, y=[y1_train, y2_train, y3_train, y4_train, y5_train, y6_train], batch_size=8192, epochs=10, verbose=1, validation_split=0.2)"
      ],
      "execution_count": 29,
      "outputs": [
        {
          "output_type": "stream",
          "text": [
            "Epoch 1/10\n",
            "2/2 [==============================] - 23s 11s/step - loss: 4.0779 - dense_loss: 0.6949 - dense_1_loss: 0.6900 - dense_2_loss: 0.6777 - dense_3_loss: 0.6903 - dense_4_loss: 0.6765 - dense_5_loss: 0.6485 - dense_acc: 0.5846 - dense_1_acc: 0.6881 - dense_2_acc: 0.6975 - dense_3_acc: 0.6138 - dense_4_acc: 0.7603 - dense_5_acc: 0.9869 - val_loss: 3.9596 - val_dense_loss: 0.6935 - val_dense_1_loss: 0.6873 - val_dense_2_loss: 0.6619 - val_dense_3_loss: 0.6810 - val_dense_4_loss: 0.6263 - val_dense_5_loss: 0.6095 - val_dense_acc: 0.5875 - val_dense_1_acc: 0.7048 - val_dense_2_acc: 0.7423 - val_dense_3_acc: 0.7217 - val_dense_4_acc: 0.9688 - val_dense_5_acc: 0.9882\n",
            "Epoch 2/10\n",
            "2/2 [==============================] - 13s 6s/step - loss: 3.9491 - dense_loss: 0.6935 - dense_1_loss: 0.6860 - dense_2_loss: 0.6584 - dense_3_loss: 0.6795 - dense_4_loss: 0.6249 - dense_5_loss: 0.6069 - dense_acc: 0.5886 - dense_1_acc: 0.7145 - dense_2_acc: 0.7323 - dense_3_acc: 0.7233 - dense_4_acc: 0.9733 - dense_5_acc: 0.9881 - val_loss: 3.8383 - val_dense_loss: 0.6918 - val_dense_1_loss: 0.6832 - val_dense_2_loss: 0.6450 - val_dense_3_loss: 0.6720 - val_dense_4_loss: 0.5826 - val_dense_5_loss: 0.5636 - val_dense_acc: 0.5875 - val_dense_1_acc: 0.7059 - val_dense_2_acc: 0.7423 - val_dense_3_acc: 0.7478 - val_dense_4_acc: 0.9688 - val_dense_5_acc: 0.9882\n",
            "Epoch 3/10\n",
            "2/2 [==============================] - 13s 7s/step - loss: 3.8258 - dense_loss: 0.6917 - dense_1_loss: 0.6811 - dense_2_loss: 0.6400 - dense_3_loss: 0.6695 - dense_4_loss: 0.5829 - dense_5_loss: 0.5606 - dense_acc: 0.5888 - dense_1_acc: 0.7151 - dense_2_acc: 0.7323 - dense_3_acc: 0.7495 - dense_4_acc: 0.9733 - dense_5_acc: 0.9881 - val_loss: 3.6637 - val_dense_loss: 0.6905 - val_dense_1_loss: 0.6749 - val_dense_2_loss: 0.6219 - val_dense_3_loss: 0.6634 - val_dense_4_loss: 0.5227 - val_dense_5_loss: 0.4903 - val_dense_acc: 0.5875 - val_dense_1_acc: 0.7063 - val_dense_2_acc: 0.7423 - val_dense_3_acc: 0.7478 - val_dense_4_acc: 0.9688 - val_dense_5_acc: 0.9882\n",
            "Epoch 4/10\n",
            "2/2 [==============================] - 13s 6s/step - loss: 3.6213 - dense_loss: 0.6904 - dense_1_loss: 0.6709 - dense_2_loss: 0.6122 - dense_3_loss: 0.6568 - dense_4_loss: 0.5137 - dense_5_loss: 0.4773 - dense_acc: 0.5887 - dense_1_acc: 0.7148 - dense_2_acc: 0.7323 - dense_3_acc: 0.7495 - dense_4_acc: 0.9733 - dense_5_acc: 0.9881 - val_loss: 2.9960 - val_dense_loss: 0.6883 - val_dense_1_loss: 0.6393 - val_dense_2_loss: 0.5522 - val_dense_3_loss: 0.6135 - val_dense_4_loss: 0.2837 - val_dense_5_loss: 0.2190 - val_dense_acc: 0.5875 - val_dense_1_acc: 0.7063 - val_dense_2_acc: 0.7423 - val_dense_3_acc: 0.7478 - val_dense_4_acc: 0.9688 - val_dense_5_acc: 0.9882\n",
            "Epoch 5/10\n",
            "2/2 [==============================] - 13s 6s/step - loss: 2.9202 - dense_loss: 0.6849 - dense_1_loss: 0.6294 - dense_2_loss: 0.5615 - dense_3_loss: 0.5986 - dense_4_loss: 0.2514 - dense_5_loss: 0.1945 - dense_acc: 0.5887 - dense_1_acc: 0.7148 - dense_2_acc: 0.7323 - dense_3_acc: 0.7495 - dense_4_acc: 0.9733 - dense_5_acc: 0.9881 - val_loss: 2.6880 - val_dense_loss: 0.6774 - val_dense_1_loss: 0.6064 - val_dense_2_loss: 0.6102 - val_dense_3_loss: 0.5800 - val_dense_4_loss: 0.1429 - val_dense_5_loss: 0.0710 - val_dense_acc: 0.5875 - val_dense_1_acc: 0.7063 - val_dense_2_acc: 0.7423 - val_dense_3_acc: 0.7478 - val_dense_4_acc: 0.9688 - val_dense_5_acc: 0.9882\n",
            "Epoch 6/10\n",
            "2/2 [==============================] - 13s 6s/step - loss: 2.6828 - dense_loss: 0.6763 - dense_1_loss: 0.5988 - dense_2_loss: 0.6294 - dense_3_loss: 0.5774 - dense_4_loss: 0.1296 - dense_5_loss: 0.0713 - dense_acc: 0.5888 - dense_1_acc: 0.7148 - dense_2_acc: 0.7323 - dense_3_acc: 0.7495 - dense_4_acc: 0.9733 - dense_5_acc: 0.9881 - val_loss: 2.6900 - val_dense_loss: 0.6763 - val_dense_1_loss: 0.6098 - val_dense_2_loss: 0.6168 - val_dense_3_loss: 0.5843 - val_dense_4_loss: 0.1391 - val_dense_5_loss: 0.0637 - val_dense_acc: 0.5886 - val_dense_1_acc: 0.7063 - val_dense_2_acc: 0.7423 - val_dense_3_acc: 0.7478 - val_dense_4_acc: 0.9688 - val_dense_5_acc: 0.9882\n",
            "Epoch 7/10\n",
            "2/2 [==============================] - 13s 6s/step - loss: 2.6729 - dense_loss: 0.6748 - dense_1_loss: 0.5998 - dense_2_loss: 0.6288 - dense_3_loss: 0.5804 - dense_4_loss: 0.1242 - dense_5_loss: 0.0649 - dense_acc: 0.5904 - dense_1_acc: 0.7148 - dense_2_acc: 0.7323 - dense_3_acc: 0.7495 - dense_4_acc: 0.9733 - dense_5_acc: 0.9881 - val_loss: 2.6417 - val_dense_loss: 0.6749 - val_dense_1_loss: 0.6061 - val_dense_2_loss: 0.5815 - val_dense_3_loss: 0.5755 - val_dense_4_loss: 0.1404 - val_dense_5_loss: 0.0633 - val_dense_acc: 0.5901 - val_dense_1_acc: 0.7063 - val_dense_2_acc: 0.7423 - val_dense_3_acc: 0.7478 - val_dense_4_acc: 0.9688 - val_dense_5_acc: 0.9882\n",
            "Epoch 8/10\n",
            "2/2 [==============================] - 13s 6s/step - loss: 2.6219 - dense_loss: 0.6740 - dense_1_loss: 0.5962 - dense_2_loss: 0.5907 - dense_3_loss: 0.5719 - dense_4_loss: 0.1243 - dense_5_loss: 0.0647 - dense_acc: 0.5987 - dense_1_acc: 0.7148 - dense_2_acc: 0.7323 - dense_3_acc: 0.7495 - dense_4_acc: 0.9733 - dense_5_acc: 0.9881 - val_loss: 2.6110 - val_dense_loss: 0.6755 - val_dense_1_loss: 0.6002 - val_dense_2_loss: 0.5635 - val_dense_3_loss: 0.5662 - val_dense_4_loss: 0.1421 - val_dense_5_loss: 0.0635 - val_dense_acc: 0.5971 - val_dense_1_acc: 0.7063 - val_dense_2_acc: 0.7423 - val_dense_3_acc: 0.7478 - val_dense_4_acc: 0.9688 - val_dense_5_acc: 0.9882\n",
            "Epoch 9/10\n",
            "2/2 [==============================] - 13s 6s/step - loss: 2.5923 - dense_loss: 0.6741 - dense_1_loss: 0.5920 - dense_2_loss: 0.5722 - dense_3_loss: 0.5638 - dense_4_loss: 0.1253 - dense_5_loss: 0.0649 - dense_acc: 0.6007 - dense_1_acc: 0.7148 - dense_2_acc: 0.7323 - dense_3_acc: 0.7495 - dense_4_acc: 0.9733 - dense_5_acc: 0.9881 - val_loss: 2.6163 - val_dense_loss: 0.6740 - val_dense_1_loss: 0.5979 - val_dense_2_loss: 0.5745 - val_dense_3_loss: 0.5630 - val_dense_4_loss: 0.1433 - val_dense_5_loss: 0.0637 - val_dense_acc: 0.5934 - val_dense_1_acc: 0.7063 - val_dense_2_acc: 0.7423 - val_dense_3_acc: 0.7478 - val_dense_4_acc: 0.9688 - val_dense_5_acc: 0.9882\n",
            "Epoch 10/10\n",
            "2/2 [==============================] - 13s 7s/step - loss: 2.5988 - dense_loss: 0.6728 - dense_1_loss: 0.5915 - dense_2_loss: 0.5808 - dense_3_loss: 0.5628 - dense_4_loss: 0.1258 - dense_5_loss: 0.0650 - dense_acc: 0.5977 - dense_1_acc: 0.7151 - dense_2_acc: 0.7323 - dense_3_acc: 0.7495 - dense_4_acc: 0.9733 - dense_5_acc: 0.9881 - val_loss: 2.6317 - val_dense_loss: 0.6740 - val_dense_1_loss: 0.5985 - val_dense_2_loss: 0.5835 - val_dense_3_loss: 0.5682 - val_dense_4_loss: 0.1437 - val_dense_5_loss: 0.0638 - val_dense_acc: 0.5908 - val_dense_1_acc: 0.7074 - val_dense_2_acc: 0.7423 - val_dense_3_acc: 0.7478 - val_dense_4_acc: 0.9688 - val_dense_5_acc: 0.9882\n"
          ],
          "name": "stdout"
        }
      ]
    },
    {
      "cell_type": "code",
      "metadata": {
        "id": "COYorWeg_2vW",
        "outputId": "5ebb3430-2844-4e80-89e0-7639f86bb3b3",
        "colab": {
          "base_uri": "https://localhost:8080/",
          "height": 369
        }
      },
      "source": [
        "from keras.utils import plot_model\n",
        "plot_model(model,to_file=path+os.path.join('/model.png'),show_layer_names=True,show_shapes=False)"
      ],
      "execution_count": 30,
      "outputs": [
        {
          "output_type": "execute_result",
          "data": {
            "image/png": "[encoded data removed]",
            "text/plain": [
              "<IPython.core.display.Image object>"
            ]
          },
          "metadata": {
            "tags": []
          },
          "execution_count": 30
        }
      ]
    },
    {
      "cell_type": "code",
      "metadata": {
        "id": "L17vbeya2zvs",
        "outputId": "a1769156-2205-4fc8-ca67-23c141b02187",
        "colab": {
          "base_uri": "https://localhost:8080/"
        }
      },
      "source": [
        "score = model.evaluate(x=X_test, y=[y1_test, y2_test, y3_test, y4_test, y5_test, y6_test], verbose=1)\n",
        "print(\"Test Loss:\", round(score[0]*100,2))\n",
        "print(\"Test Accuracy:\", round(score[1]*100,2))"
      ],
      "execution_count": 33,
      "outputs": [
        {
          "output_type": "stream",
          "text": [
            "107/107 [==============================] - 7s 62ms/step - loss: 2.6219 - dense_loss: 0.6720 - dense_1_loss: 0.5950 - dense_2_loss: 0.5867 - dense_3_loss: 0.5623 - dense_4_loss: 0.1356 - dense_5_loss: 0.0703 - dense_acc: 0.5991 - dense_1_acc: 0.7141 - dense_2_acc: 0.7309 - dense_3_acc: 0.7565 - dense_4_acc: 0.9709 - dense_5_acc: 0.9871\n",
            "Test Loss: 262.19\n",
            "Test Accuracy: 67.2\n"
          ],
          "name": "stdout"
        }
      ]
    },
    {
      "cell_type": "code",
      "metadata": {
        "id": "JpoftlIM22RU",
        "outputId": "23297232-7751-48bb-dbfc-cae2f1782c3d",
        "colab": {
          "base_uri": "https://localhost:8080/",
          "height": 1000
        }
      },
      "source": [
        "import matplotlib.pyplot as plt\n",
        "plt.plot(history.history['dense_1_acc'])\n",
        "plt.plot(history.history['val_dense_1_acc'])\n",
        "plt.title('model accuracy')\n",
        "plt.ylabel('accuracy')\n",
        "plt.xlabel('epoch')\n",
        "plt.legend(['train','test'], loc='upper left')\n",
        "plt.savefig(path+os.path.join('/model-accuracy.png'))\n",
        "plt.show()\n",
        "plt.plot(history.history['dense_1_loss'])\n",
        "plt.plot(history.history['val_dense_1_loss'])\n",
        "plt.title('model loss')\n",
        "plt.ylabel('loss')\n",
        "plt.xlabel('epoch')\n",
        "plt.legend(['train','test'], loc='upper left')\n",
        "plt.savefig(path+os.path.join('/model-loss.png'))\n",
        "plt.show()"
      ],
      "execution_count": 40,
      "outputs": [
        {
          "output_type": "display_data",
          "data": {
            "image/png": "[encoded data removed]",
            "text/plain": [
              "<Figure size 720x576 with 1 Axes>"
            ]
          },
          "metadata": {
            "tags": [],
            "needs_background": "light"
          }
        },
        {
          "output_type": "display_data",
          "data": {
            "image/png": "[encoded data removed]",
            "text/plain": [
              "<Figure size 720x576 with 1 Axes>"
            ]
          },
          "metadata": {
            "tags": [],
            "needs_background": "light"
          }
        }
      ]
    },
    {
      "cell_type": "code",
      "metadata": {
        "id": "dYIbDxlZ4_Rg",
        "outputId": "64313a04-c1f0-44a6-89f0-7b9297b19b16",
        "colab": {
          "base_uri": "https://localhost:8080/",
          "height": 419
        }
      },
      "source": [
        "fp = path+os.path.join('/TEST.csv')\n",
        "test_script = pd.read_csv(fp)\n",
        "test_script"
      ],
      "execution_count": 41,
      "outputs": [
        {
          "output_type": "execute_result",
          "data": {
            "text/html": [
              "<div>\n",
              "<style scoped>\n",
              "    .dataframe tbody tr th:only-of-type {\n",
              "        vertical-align: middle;\n",
              "    }\n",
              "\n",
              "    .dataframe tbody tr th {\n",
              "        vertical-align: top;\n",
              "    }\n",
              "\n",
              "    .dataframe thead th {\n",
              "        text-align: right;\n",
              "    }\n",
              "</style>\n",
              "<table border=\"1\" class=\"dataframe\">\n",
              "  <thead>\n",
              "    <tr style=\"text-align: right;\">\n",
              "      <th></th>\n",
              "      <th>TITLE</th>\n",
              "      <th>ABSTRACT</th>\n",
              "    </tr>\n",
              "  </thead>\n",
              "  <tbody>\n",
              "    <tr>\n",
              "      <th>0</th>\n",
              "      <td>On the wave propagation analysis and supratran...</td>\n",
              "      <td>In this research, we investigate the nonline...</td>\n",
              "    </tr>\n",
              "    <tr>\n",
              "      <th>1</th>\n",
              "      <td>Thermal and non-thermal emission from the coco...</td>\n",
              "      <td>We present hydrodynamic simulations of the h...</td>\n",
              "    </tr>\n",
              "    <tr>\n",
              "      <th>2</th>\n",
              "      <td>HTEM data improve 3D modelling of aquifers in ...</td>\n",
              "      <td>In Paris Basin, we evaluate how HTEM data co...</td>\n",
              "    </tr>\n",
              "    <tr>\n",
              "      <th>3</th>\n",
              "      <td>Chirality-induced Antisymmetry in Magnetic Dom...</td>\n",
              "      <td>In chiral magnetic materials, numerous intri...</td>\n",
              "    </tr>\n",
              "    <tr>\n",
              "      <th>4</th>\n",
              "      <td>In-home and remote use of robotic body surroga...</td>\n",
              "      <td>People with profound motor deficits could pe...</td>\n",
              "    </tr>\n",
              "    <tr>\n",
              "      <th>...</th>\n",
              "      <td>...</td>\n",
              "      <td>...</td>\n",
              "    </tr>\n",
              "    <tr>\n",
              "      <th>3967</th>\n",
              "      <td>Probabilities of causation of climate changes</td>\n",
              "      <td>Multiple changes in Earth's climate system h...</td>\n",
              "    </tr>\n",
              "    <tr>\n",
              "      <th>3968</th>\n",
              "      <td>On Estimation of $L_{r}$-Norms in Gaussian Whi...</td>\n",
              "      <td>We provide a complete picture of asymptotica...</td>\n",
              "    </tr>\n",
              "    <tr>\n",
              "      <th>3969</th>\n",
              "      <td>Monitoring of Wild Pseudomonas Biofilm Strain ...</td>\n",
              "      <td>The present paper proposes a novel method of...</td>\n",
              "    </tr>\n",
              "    <tr>\n",
              "      <th>3970</th>\n",
              "      <td>Self-Motion of the 3-PPPS Parallel Robot with ...</td>\n",
              "      <td>This paper presents the kinematic analysis o...</td>\n",
              "    </tr>\n",
              "    <tr>\n",
              "      <th>3971</th>\n",
              "      <td>Building a bridge between Classical and Quantu...</td>\n",
              "      <td>The way Quantum Mechanics (QM) is introduced...</td>\n",
              "    </tr>\n",
              "  </tbody>\n",
              "</table>\n",
              "<p>3972 rows × 2 columns</p>\n",
              "</div>"
            ],
            "text/plain": [
              "                                                  TITLE                                           ABSTRACT\n",
              "0     On the wave propagation analysis and supratran...    In this research, we investigate the nonline...\n",
              "1     Thermal and non-thermal emission from the coco...    We present hydrodynamic simulations of the h...\n",
              "2     HTEM data improve 3D modelling of aquifers in ...    In Paris Basin, we evaluate how HTEM data co...\n",
              "3     Chirality-induced Antisymmetry in Magnetic Dom...    In chiral magnetic materials, numerous intri...\n",
              "4     In-home and remote use of robotic body surroga...    People with profound motor deficits could pe...\n",
              "...                                                 ...                                                ...\n",
              "3967      Probabilities of causation of climate changes    Multiple changes in Earth's climate system h...\n",
              "3968  On Estimation of $L_{r}$-Norms in Gaussian Whi...    We provide a complete picture of asymptotica...\n",
              "3969  Monitoring of Wild Pseudomonas Biofilm Strain ...    The present paper proposes a novel method of...\n",
              "3970  Self-Motion of the 3-PPPS Parallel Robot with ...    This paper presents the kinematic analysis o...\n",
              "3971  Building a bridge between Classical and Quantu...    The way Quantum Mechanics (QM) is introduced...\n",
              "\n",
              "[3972 rows x 2 columns]"
            ]
          },
          "metadata": {
            "tags": []
          },
          "execution_count": 41
        }
      ]
    },
    {
      "cell_type": "code",
      "metadata": {
        "id": "6T6xYNw555XV"
      },
      "source": [
        "xTest = []\n",
        "scripts = list(test_script[\"ABSTRACT\"])\n",
        "for sen in scripts:\n",
        "    xTest.append(preprocess_text(sen))\n",
        "#xTest"
      ],
      "execution_count": 42,
      "outputs": []
    },
    {
      "cell_type": "code",
      "metadata": {
        "id": "nlSKhFvP6QJ-",
        "outputId": "47554da2-9233-4670-b7bf-e0857437f634",
        "colab": {
          "base_uri": "https://localhost:8080/"
        }
      },
      "source": [
        "model.summary()"
      ],
      "execution_count": 43,
      "outputs": [
        {
          "output_type": "stream",
          "text": [
            "Model: \"functional_1\"\n",
            "__________________________________________________________________________________________________\n",
            "Layer (type)                    Output Shape         Param #     Connected to                     \n",
            "==================================================================================================\n",
            "input_1 (InputLayer)            [(None, 200)]        0                                            \n",
            "__________________________________________________________________________________________________\n",
            "embedding (Embedding)           (None, 200, 100)     4047600     input_1[0][0]                    \n",
            "__________________________________________________________________________________________________\n",
            "lstm (LSTM)                     (None, 128)          117248      embedding[0][0]                  \n",
            "__________________________________________________________________________________________________\n",
            "dense (Dense)                   (None, 1)            129         lstm[0][0]                       \n",
            "__________________________________________________________________________________________________\n",
            "dense_1 (Dense)                 (None, 1)            129         lstm[0][0]                       \n",
            "__________________________________________________________________________________________________\n",
            "dense_2 (Dense)                 (None, 1)            129         lstm[0][0]                       \n",
            "__________________________________________________________________________________________________\n",
            "dense_3 (Dense)                 (None, 1)            129         lstm[0][0]                       \n",
            "__________________________________________________________________________________________________\n",
            "dense_4 (Dense)                 (None, 1)            129         lstm[0][0]                       \n",
            "__________________________________________________________________________________________________\n",
            "dense_5 (Dense)                 (None, 1)            129         lstm[0][0]                       \n",
            "==================================================================================================\n",
            "Total params: 4,165,622\n",
            "Trainable params: 118,022\n",
            "Non-trainable params: 4,047,600\n",
            "__________________________________________________________________________________________________\n"
          ],
          "name": "stdout"
        }
      ]
    },
    {
      "cell_type": "code",
      "metadata": {
        "id": "Db-b1q7d3Nqn",
        "outputId": "0b7d3079-8314-4e5c-856b-619f1572487d",
        "colab": {
          "base_uri": "https://localhost:8080/"
        }
      },
      "source": [
        "from sklearn.model_selection import train_test_split\n",
        "from sklearn.feature_extraction.text import CountVectorizer\n",
        "from sklearn.feature_extraction.text import TfidfTransformer\n",
        "from sklearn.naive_bayes import MultinomialNB\n",
        "X_train2, X_test2, y_train2, y_test2 = train_test_split(df['ABSTRACT'], df.labels, random_state = 0)\n",
        "count_vect = CountVectorizer()\n",
        "X_train_counts = count_vect.fit_transform(X_train2)\n",
        "tfidf_transformer = TfidfTransformer()\n",
        "X_train_tfidf = tfidf_transformer.fit_transform(X_train_counts)\n",
        "clf = MultinomialNB().fit(X_train_tfidf, y_train2)\n",
        "print(clf.predict(count_vect.transform([\"   I870./, want to build an AI system that will calculate statistics, probablity and other shit\"])))"
      ],
      "execution_count": 44,
      "outputs": [
        {
          "output_type": "stream",
          "text": [
            "['Computer Science']\n"
          ],
          "name": "stdout"
        }
      ]
    },
    {
      "cell_type": "code",
      "metadata": {
        "id": "Li3KCDd_4Mrl",
        "outputId": "1f1def94-a5ba-4037-c5ed-ca44f867cca2",
        "colab": {
          "base_uri": "https://localhost:8080/",
          "height": 204
        }
      },
      "source": [
        "predictions = []\n",
        "for line in xTest:\n",
        "  predictions.append(clf.predict(count_vect.transform([line])))\n",
        "predictions = pd.DataFrame(predictions)\n",
        "predictions.columns = ['labels']\n",
        "predictions.to_csv(path+os.path.join('/output_final.csv'),header=True,index=True)\n",
        "predictions.head()"
      ],
      "execution_count": 45,
      "outputs": [
        {
          "output_type": "execute_result",
          "data": {
            "text/html": [
              "<div>\n",
              "<style scoped>\n",
              "    .dataframe tbody tr th:only-of-type {\n",
              "        vertical-align: middle;\n",
              "    }\n",
              "\n",
              "    .dataframe tbody tr th {\n",
              "        vertical-align: top;\n",
              "    }\n",
              "\n",
              "    .dataframe thead th {\n",
              "        text-align: right;\n",
              "    }\n",
              "</style>\n",
              "<table border=\"1\" class=\"dataframe\">\n",
              "  <thead>\n",
              "    <tr style=\"text-align: right;\">\n",
              "      <th></th>\n",
              "      <th>labels</th>\n",
              "    </tr>\n",
              "  </thead>\n",
              "  <tbody>\n",
              "    <tr>\n",
              "      <th>0</th>\n",
              "      <td>Physics</td>\n",
              "    </tr>\n",
              "    <tr>\n",
              "      <th>1</th>\n",
              "      <td>Physics</td>\n",
              "    </tr>\n",
              "    <tr>\n",
              "      <th>2</th>\n",
              "      <td>Physics</td>\n",
              "    </tr>\n",
              "    <tr>\n",
              "      <th>3</th>\n",
              "      <td>Physics</td>\n",
              "    </tr>\n",
              "    <tr>\n",
              "      <th>4</th>\n",
              "      <td>Computer Science</td>\n",
              "    </tr>\n",
              "  </tbody>\n",
              "</table>\n",
              "</div>"
            ],
            "text/plain": [
              "             labels\n",
              "0           Physics\n",
              "1           Physics\n",
              "2           Physics\n",
              "3           Physics\n",
              "4  Computer Science"
            ]
          },
          "metadata": {
            "tags": []
          },
          "execution_count": 45
        }
      ]
    }
  ]
}